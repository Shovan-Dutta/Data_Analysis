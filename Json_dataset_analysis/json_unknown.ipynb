{
 "cells": [
  {
   "cell_type": "code",
   "execution_count": 39,
   "metadata": {},
   "outputs": [],
   "source": [
    "import pandas as pd"
   ]
  },
  {
   "cell_type": "code",
   "execution_count": 40,
   "metadata": {},
   "outputs": [
    {
     "name": "stdout",
     "output_type": "stream",
     "text": [
      "500\n",
      "dict_keys(['entryType', 'primaryAccession', 'secondaryAccessions', 'uniProtkbId', 'entryAudit', 'annotationScore', 'organism', 'proteinExistence', 'proteinDescription', 'genes', 'comments', 'features', 'keywords', 'references', 'uniProtKBCrossReferences', 'sequence', 'extraAttributes'])\n"
     ]
    }
   ],
   "source": [
    "js = pd.read_json(\"search.json\")\n",
    "print(len(js))\n",
    "print(js['results'][1].keys())"
   ]
  },
  {
   "cell_type": "code",
   "execution_count": 41,
   "metadata": {},
   "outputs": [
    {
     "data": {
      "text/plain": [
       "Index(['entryType', 'primaryAccession', 'secondaryAccessions', 'uniProtkbId',\n",
       "       'entryAudit', 'annotationScore', 'organism', 'proteinExistence',\n",
       "       'proteinDescription', 'genes', 'comments', 'features', 'keywords',\n",
       "       'references', 'uniProtKBCrossReferences', 'sequence',\n",
       "       'extraAttributes'],\n",
       "      dtype='object')"
      ]
     },
     "execution_count": 41,
     "metadata": {},
     "output_type": "execute_result"
    }
   ],
   "source": [
    "df = pd.DataFrame(columns = list(js['results'][0].keys()))\n",
    "df.columns"
   ]
  },
  {
   "cell_type": "code",
   "execution_count": null,
   "metadata": {},
   "outputs": [],
   "source": [
    "for i in range(len(js)):\n",
    "    df = df.append(js['results'][i],ignore_index = True)"
   ]
  },
  {
   "cell_type": "code",
   "execution_count": 43,
   "metadata": {},
   "outputs": [
    {
     "data": {
      "text/html": [
       "<div>\n",
       "<style scoped>\n",
       "    .dataframe tbody tr th:only-of-type {\n",
       "        vertical-align: middle;\n",
       "    }\n",
       "\n",
       "    .dataframe tbody tr th {\n",
       "        vertical-align: top;\n",
       "    }\n",
       "\n",
       "    .dataframe thead th {\n",
       "        text-align: right;\n",
       "    }\n",
       "</style>\n",
       "<table border=\"1\" class=\"dataframe\">\n",
       "  <thead>\n",
       "    <tr style=\"text-align: right;\">\n",
       "      <th></th>\n",
       "      <th>entryType</th>\n",
       "      <th>primaryAccession</th>\n",
       "      <th>secondaryAccessions</th>\n",
       "      <th>uniProtkbId</th>\n",
       "      <th>entryAudit</th>\n",
       "      <th>annotationScore</th>\n",
       "      <th>organism</th>\n",
       "      <th>proteinExistence</th>\n",
       "      <th>proteinDescription</th>\n",
       "      <th>genes</th>\n",
       "      <th>comments</th>\n",
       "      <th>features</th>\n",
       "      <th>keywords</th>\n",
       "      <th>references</th>\n",
       "      <th>uniProtKBCrossReferences</th>\n",
       "      <th>sequence</th>\n",
       "      <th>extraAttributes</th>\n",
       "      <th>organismHosts</th>\n",
       "    </tr>\n",
       "  </thead>\n",
       "  <tbody>\n",
       "    <tr>\n",
       "      <th>0</th>\n",
       "      <td>UniProtKB reviewed (Swiss-Prot)</td>\n",
       "      <td>P11745</td>\n",
       "      <td>[D6W061]</td>\n",
       "      <td>RNA1_YEAST</td>\n",
       "      <td>{'firstPublicDate': '1989-10-01', 'lastAnnotat...</td>\n",
       "      <td>5.0</td>\n",
       "      <td>{'scientificName': 'Saccharomyces cerevisiae (...</td>\n",
       "      <td>1: Evidence at protein level</td>\n",
       "      <td>{'recommendedName': {'fullName': {'value': 'Ra...</td>\n",
       "      <td>[{'geneName': {'value': 'RNA1'}, 'orderedLocus...</td>\n",
       "      <td>[{'texts': [{'value': 'GTPase activator for th...</td>\n",
       "      <td>[{'type': 'Chain', 'location': {'start': {'val...</td>\n",
       "      <td>[{'id': 'KW-0963', 'category': 'Cellular compo...</td>\n",
       "      <td>[{'citation': {'id': '2674676', 'citationType'...</td>\n",
       "      <td>[{'database': 'EMBL', 'id': 'M27143', 'propert...</td>\n",
       "      <td>{'value': 'MATLHFVPQHEEEQVYSISGKALKLTTSDDIKPYL...</td>\n",
       "      <td>{'countByCommentType': {'FUNCTION': 1, 'SUBCEL...</td>\n",
       "      <td>NaN</td>\n",
       "    </tr>\n",
       "    <tr>\n",
       "      <th>1</th>\n",
       "      <td>UniProtKB reviewed (Swiss-Prot)</td>\n",
       "      <td>P25298</td>\n",
       "      <td>[D6VZN5]</td>\n",
       "      <td>RNA14_YEAST</td>\n",
       "      <td>{'firstPublicDate': '1992-05-01', 'lastAnnotat...</td>\n",
       "      <td>5.0</td>\n",
       "      <td>{'scientificName': 'Saccharomyces cerevisiae (...</td>\n",
       "      <td>1: Evidence at protein level</td>\n",
       "      <td>{'recommendedName': {'fullName': {'value': 'mR...</td>\n",
       "      <td>[{'geneName': {'value': 'RNA14'}, 'orderedLocu...</td>\n",
       "      <td>[{'texts': [{'evidences': [{'evidenceCode': 'E...</td>\n",
       "      <td>[{'type': 'Chain', 'location': {'start': {'val...</td>\n",
       "      <td>[{'id': 'KW-0002', 'category': 'Technical term...</td>\n",
       "      <td>[{'citation': {'id': '1674817', 'citationType'...</td>\n",
       "      <td>[{'database': 'EMBL', 'id': 'M73461', 'propert...</td>\n",
       "      <td>{'value': 'MSSSTTPDLLYPSADKVAEPSDNIHGDELRLRERI...</td>\n",
       "      <td>{'countByCommentType': {'FUNCTION': 1, 'SUBUNI...</td>\n",
       "      <td>NaN</td>\n",
       "    </tr>\n",
       "    <tr>\n",
       "      <th>2</th>\n",
       "      <td>UniProtKB reviewed (Swiss-Prot)</td>\n",
       "      <td>P25299</td>\n",
       "      <td>[D6VU95]</td>\n",
       "      <td>RNA15_YEAST</td>\n",
       "      <td>{'firstPublicDate': '1992-05-01', 'lastAnnotat...</td>\n",
       "      <td>5.0</td>\n",
       "      <td>{'scientificName': 'Saccharomyces cerevisiae (...</td>\n",
       "      <td>1: Evidence at protein level</td>\n",
       "      <td>{'recommendedName': {'fullName': {'value': 'mR...</td>\n",
       "      <td>[{'geneName': {'value': 'RNA15'}, 'orderedLocu...</td>\n",
       "      <td>[{'texts': [{'evidences': [{'evidenceCode': 'E...</td>\n",
       "      <td>[{'type': 'Chain', 'location': {'start': {'val...</td>\n",
       "      <td>[{'id': 'KW-0002', 'category': 'Technical term...</td>\n",
       "      <td>[{'citation': {'id': '1674817', 'citationType'...</td>\n",
       "      <td>[{'database': 'EMBL', 'id': 'M73462', 'propert...</td>\n",
       "      <td>{'value': 'MNRQSGVNAGVQNNPPSRVVYLGSIPYDQTEEQIL...</td>\n",
       "      <td>{'countByCommentType': {'FUNCTION': 1, 'SUBUNI...</td>\n",
       "      <td>NaN</td>\n",
       "    </tr>\n",
       "    <tr>\n",
       "      <th>3</th>\n",
       "      <td>UniProtKB reviewed (Swiss-Prot)</td>\n",
       "      <td>P41391</td>\n",
       "      <td>NaN</td>\n",
       "      <td>RNA1_SCHPO</td>\n",
       "      <td>{'firstPublicDate': '1995-11-01', 'lastAnnotat...</td>\n",
       "      <td>5.0</td>\n",
       "      <td>{'scientificName': 'Schizosaccharomyces pombe ...</td>\n",
       "      <td>1: Evidence at protein level</td>\n",
       "      <td>{'recommendedName': {'fullName': {'value': 'Ra...</td>\n",
       "      <td>[{'geneName': {'value': 'rna1'}, 'orfNames': [...</td>\n",
       "      <td>[{'texts': [{'value': 'GTPase activator for th...</td>\n",
       "      <td>[{'type': 'Chain', 'location': {'start': {'val...</td>\n",
       "      <td>[{'id': 'KW-0002', 'category': 'Technical term...</td>\n",
       "      <td>[{'citation': {'id': '8374168', 'citationType'...</td>\n",
       "      <td>[{'database': 'EMBL', 'id': 'X69882', 'propert...</td>\n",
       "      <td>{'value': 'MSRFSIEGKSLKLDAITTEDEKSVFAVLLEDDSVK...</td>\n",
       "      <td>{'countByCommentType': {'FUNCTION': 1, 'SUBUNI...</td>\n",
       "      <td>NaN</td>\n",
       "    </tr>\n",
       "    <tr>\n",
       "      <th>4</th>\n",
       "      <td>UniProtKB reviewed (Swiss-Prot)</td>\n",
       "      <td>P42285</td>\n",
       "      <td>[Q2M386, Q6MZZ8, Q6P170, Q8N5R0, Q8TAG2]</td>\n",
       "      <td>MTREX_HUMAN</td>\n",
       "      <td>{'firstPublicDate': '1995-11-01', 'lastAnnotat...</td>\n",
       "      <td>5.0</td>\n",
       "      <td>{'scientificName': 'Homo sapiens', 'commonName...</td>\n",
       "      <td>1: Evidence at protein level</td>\n",
       "      <td>{'recommendedName': {'fullName': {'evidences':...</td>\n",
       "      <td>[{'geneName': {'evidences': [{'evidenceCode': ...</td>\n",
       "      <td>[{'texts': [{'evidences': [{'evidenceCode': 'E...</td>\n",
       "      <td>[{'type': 'Initiator methionine', 'location': ...</td>\n",
       "      <td>[{'id': 'KW-0002', 'category': 'Technical term...</td>\n",
       "      <td>[{'citation': {'id': '7584044', 'citationType'...</td>\n",
       "      <td>[{'database': 'EMBL', 'id': 'D29641', 'propert...</td>\n",
       "      <td>{'value': 'MADAFGDELFSVFEGDSTTAAGTKKDKEKDKGKWK...</td>\n",
       "      <td>{'countByCommentType': {'FUNCTION': 1, 'CATALY...</td>\n",
       "      <td>NaN</td>\n",
       "    </tr>\n",
       "  </tbody>\n",
       "</table>\n",
       "</div>"
      ],
      "text/plain": [
       "                         entryType primaryAccession  \\\n",
       "0  UniProtKB reviewed (Swiss-Prot)           P11745   \n",
       "1  UniProtKB reviewed (Swiss-Prot)           P25298   \n",
       "2  UniProtKB reviewed (Swiss-Prot)           P25299   \n",
       "3  UniProtKB reviewed (Swiss-Prot)           P41391   \n",
       "4  UniProtKB reviewed (Swiss-Prot)           P42285   \n",
       "\n",
       "                        secondaryAccessions  uniProtkbId  \\\n",
       "0                                  [D6W061]   RNA1_YEAST   \n",
       "1                                  [D6VZN5]  RNA14_YEAST   \n",
       "2                                  [D6VU95]  RNA15_YEAST   \n",
       "3                                       NaN   RNA1_SCHPO   \n",
       "4  [Q2M386, Q6MZZ8, Q6P170, Q8N5R0, Q8TAG2]  MTREX_HUMAN   \n",
       "\n",
       "                                          entryAudit  annotationScore  \\\n",
       "0  {'firstPublicDate': '1989-10-01', 'lastAnnotat...              5.0   \n",
       "1  {'firstPublicDate': '1992-05-01', 'lastAnnotat...              5.0   \n",
       "2  {'firstPublicDate': '1992-05-01', 'lastAnnotat...              5.0   \n",
       "3  {'firstPublicDate': '1995-11-01', 'lastAnnotat...              5.0   \n",
       "4  {'firstPublicDate': '1995-11-01', 'lastAnnotat...              5.0   \n",
       "\n",
       "                                            organism  \\\n",
       "0  {'scientificName': 'Saccharomyces cerevisiae (...   \n",
       "1  {'scientificName': 'Saccharomyces cerevisiae (...   \n",
       "2  {'scientificName': 'Saccharomyces cerevisiae (...   \n",
       "3  {'scientificName': 'Schizosaccharomyces pombe ...   \n",
       "4  {'scientificName': 'Homo sapiens', 'commonName...   \n",
       "\n",
       "               proteinExistence  \\\n",
       "0  1: Evidence at protein level   \n",
       "1  1: Evidence at protein level   \n",
       "2  1: Evidence at protein level   \n",
       "3  1: Evidence at protein level   \n",
       "4  1: Evidence at protein level   \n",
       "\n",
       "                                  proteinDescription  \\\n",
       "0  {'recommendedName': {'fullName': {'value': 'Ra...   \n",
       "1  {'recommendedName': {'fullName': {'value': 'mR...   \n",
       "2  {'recommendedName': {'fullName': {'value': 'mR...   \n",
       "3  {'recommendedName': {'fullName': {'value': 'Ra...   \n",
       "4  {'recommendedName': {'fullName': {'evidences':...   \n",
       "\n",
       "                                               genes  \\\n",
       "0  [{'geneName': {'value': 'RNA1'}, 'orderedLocus...   \n",
       "1  [{'geneName': {'value': 'RNA14'}, 'orderedLocu...   \n",
       "2  [{'geneName': {'value': 'RNA15'}, 'orderedLocu...   \n",
       "3  [{'geneName': {'value': 'rna1'}, 'orfNames': [...   \n",
       "4  [{'geneName': {'evidences': [{'evidenceCode': ...   \n",
       "\n",
       "                                            comments  \\\n",
       "0  [{'texts': [{'value': 'GTPase activator for th...   \n",
       "1  [{'texts': [{'evidences': [{'evidenceCode': 'E...   \n",
       "2  [{'texts': [{'evidences': [{'evidenceCode': 'E...   \n",
       "3  [{'texts': [{'value': 'GTPase activator for th...   \n",
       "4  [{'texts': [{'evidences': [{'evidenceCode': 'E...   \n",
       "\n",
       "                                            features  \\\n",
       "0  [{'type': 'Chain', 'location': {'start': {'val...   \n",
       "1  [{'type': 'Chain', 'location': {'start': {'val...   \n",
       "2  [{'type': 'Chain', 'location': {'start': {'val...   \n",
       "3  [{'type': 'Chain', 'location': {'start': {'val...   \n",
       "4  [{'type': 'Initiator methionine', 'location': ...   \n",
       "\n",
       "                                            keywords  \\\n",
       "0  [{'id': 'KW-0963', 'category': 'Cellular compo...   \n",
       "1  [{'id': 'KW-0002', 'category': 'Technical term...   \n",
       "2  [{'id': 'KW-0002', 'category': 'Technical term...   \n",
       "3  [{'id': 'KW-0002', 'category': 'Technical term...   \n",
       "4  [{'id': 'KW-0002', 'category': 'Technical term...   \n",
       "\n",
       "                                          references  \\\n",
       "0  [{'citation': {'id': '2674676', 'citationType'...   \n",
       "1  [{'citation': {'id': '1674817', 'citationType'...   \n",
       "2  [{'citation': {'id': '1674817', 'citationType'...   \n",
       "3  [{'citation': {'id': '8374168', 'citationType'...   \n",
       "4  [{'citation': {'id': '7584044', 'citationType'...   \n",
       "\n",
       "                            uniProtKBCrossReferences  \\\n",
       "0  [{'database': 'EMBL', 'id': 'M27143', 'propert...   \n",
       "1  [{'database': 'EMBL', 'id': 'M73461', 'propert...   \n",
       "2  [{'database': 'EMBL', 'id': 'M73462', 'propert...   \n",
       "3  [{'database': 'EMBL', 'id': 'X69882', 'propert...   \n",
       "4  [{'database': 'EMBL', 'id': 'D29641', 'propert...   \n",
       "\n",
       "                                            sequence  \\\n",
       "0  {'value': 'MATLHFVPQHEEEQVYSISGKALKLTTSDDIKPYL...   \n",
       "1  {'value': 'MSSSTTPDLLYPSADKVAEPSDNIHGDELRLRERI...   \n",
       "2  {'value': 'MNRQSGVNAGVQNNPPSRVVYLGSIPYDQTEEQIL...   \n",
       "3  {'value': 'MSRFSIEGKSLKLDAITTEDEKSVFAVLLEDDSVK...   \n",
       "4  {'value': 'MADAFGDELFSVFEGDSTTAAGTKKDKEKDKGKWK...   \n",
       "\n",
       "                                     extraAttributes organismHosts  \n",
       "0  {'countByCommentType': {'FUNCTION': 1, 'SUBCEL...           NaN  \n",
       "1  {'countByCommentType': {'FUNCTION': 1, 'SUBUNI...           NaN  \n",
       "2  {'countByCommentType': {'FUNCTION': 1, 'SUBUNI...           NaN  \n",
       "3  {'countByCommentType': {'FUNCTION': 1, 'SUBUNI...           NaN  \n",
       "4  {'countByCommentType': {'FUNCTION': 1, 'CATALY...           NaN  "
      ]
     },
     "execution_count": 43,
     "metadata": {},
     "output_type": "execute_result"
    }
   ],
   "source": [
    "df.head()"
   ]
  },
  {
   "cell_type": "code",
   "execution_count": 52,
   "metadata": {},
   "outputs": [
    {
     "data": {
      "text/plain": [
       "500"
      ]
     },
     "execution_count": 52,
     "metadata": {},
     "output_type": "execute_result"
    }
   ],
   "source": [
    "len(df)"
   ]
  },
  {
   "cell_type": "code",
   "execution_count": 35,
   "metadata": {},
   "outputs": [],
   "source": [
    "df.to_csv('out.csv', index=False) #getting the main file according to the main columns"
   ]
  },
  {
   "cell_type": "code",
   "execution_count": 55,
   "metadata": {},
   "outputs": [
    {
     "data": {
      "text/plain": [
       "1"
      ]
     },
     "execution_count": 55,
     "metadata": {},
     "output_type": "execute_result"
    }
   ],
   "source": [
    "len(df.entryType.unique())"
   ]
  },
  {
   "cell_type": "code",
   "execution_count": 81,
   "metadata": {},
   "outputs": [
    {
     "name": "stdout",
     "output_type": "stream",
     "text": [
      "['firstPublicDate', 'lastAnnotationUpdateDate', 'lastSequenceUpdateDate', 'entryVersion', 'sequenceVersion']\n",
      "['scientificName', 'commonName', 'taxonId', 'lineage']\n",
      "['recommendedName', 'alternativeNames']\n",
      "['geneName', 'orderedLocusNames', 'orfNames']\n",
      "['texts', 'commentType']\n",
      "['type', 'location', 'description', 'featureId']\n",
      "['id', 'category', 'name']\n",
      "['citation', 'referencePositions']\n",
      "['database', 'id', 'properties']\n",
      "['value', 'length', 'molWeight', 'crc64', 'md5']\n",
      "['countByCommentType', 'countByFeatureType', 'uniParcId']\n"
     ]
    }
   ],
   "source": [
    "print(list(df['entryAudit'][0].keys()))\n",
    "print(list(df['organism'][0].keys()))\n",
    "print(list(df['proteinDescription'][0].keys()))\n",
    "print(list(df['genes'][0][0].keys()))\n",
    "print(list(df['comments'][0][0].keys()))\n",
    "print(list(df['features'][0][0].keys()))\n",
    "print(list(df['keywords'][0][0].keys()))\n",
    "print(list(df['references'][0][0].keys()))\n",
    "print(list(df['uniProtKBCrossReferences'][0][0].keys()))\n",
    "print(list(df['sequence'][0].keys()))\n",
    "print(list(df['extraAttributes'][0].keys()))"
   ]
  },
  {
   "cell_type": "code",
   "execution_count": 84,
   "metadata": {},
   "outputs": [
    {
     "data": {
      "text/plain": [
       "[{'geneName': {'evidences': [{'evidenceCode': 'ECO:0000303',\n",
       "     'source': 'PubMed',\n",
       "     'id': '17376872'},\n",
       "    {'evidenceCode': 'ECO:0000312', 'source': 'MGI', 'id': 'MGI:2443205'}],\n",
       "   'value': 'Rbm15'},\n",
       "  'synonyms': [{'evidences': [{'evidenceCode': 'ECO:0000303',\n",
       "      'source': 'Reference',\n",
       "      'id': 'Ref.1'}],\n",
       "    'value': 'Kiaa4257'},\n",
       "   {'evidences': [{'evidenceCode': 'ECO:0000303',\n",
       "      'source': 'PubMed',\n",
       "      'id': '17376872'}],\n",
       "    'value': 'Ott1'}]}]"
      ]
     },
     "execution_count": 84,
     "metadata": {},
     "output_type": "execute_result"
    }
   ],
   "source": [
    "df['genes'][5]"
   ]
  },
  {
   "cell_type": "code",
   "execution_count": null,
   "metadata": {},
   "outputs": [],
   "source": [
    "entryAudit = pd.DataFrame(columns = list(df['entryAudit'][0].keys()))\n",
    "for i in range(len(df)):\n",
    "    entryAudit = entryAudit.append(df['entryAudit'][i],ignore_index = True)"
   ]
  },
  {
   "cell_type": "code",
   "execution_count": 64,
   "metadata": {},
   "outputs": [
    {
     "data": {
      "text/html": [
       "<div>\n",
       "<style scoped>\n",
       "    .dataframe tbody tr th:only-of-type {\n",
       "        vertical-align: middle;\n",
       "    }\n",
       "\n",
       "    .dataframe tbody tr th {\n",
       "        vertical-align: top;\n",
       "    }\n",
       "\n",
       "    .dataframe thead th {\n",
       "        text-align: right;\n",
       "    }\n",
       "</style>\n",
       "<table border=\"1\" class=\"dataframe\">\n",
       "  <thead>\n",
       "    <tr style=\"text-align: right;\">\n",
       "      <th></th>\n",
       "      <th>firstPublicDate</th>\n",
       "      <th>lastAnnotationUpdateDate</th>\n",
       "      <th>lastSequenceUpdateDate</th>\n",
       "      <th>entryVersion</th>\n",
       "      <th>sequenceVersion</th>\n",
       "    </tr>\n",
       "  </thead>\n",
       "  <tbody>\n",
       "    <tr>\n",
       "      <th>0</th>\n",
       "      <td>1989-10-01</td>\n",
       "      <td>2022-12-14</td>\n",
       "      <td>1990-04-01</td>\n",
       "      <td>198</td>\n",
       "      <td>2</td>\n",
       "    </tr>\n",
       "    <tr>\n",
       "      <th>1</th>\n",
       "      <td>1992-05-01</td>\n",
       "      <td>2022-12-14</td>\n",
       "      <td>1996-02-01</td>\n",
       "      <td>177</td>\n",
       "      <td>2</td>\n",
       "    </tr>\n",
       "    <tr>\n",
       "      <th>2</th>\n",
       "      <td>1992-05-01</td>\n",
       "      <td>2022-12-14</td>\n",
       "      <td>1992-05-01</td>\n",
       "      <td>182</td>\n",
       "      <td>1</td>\n",
       "    </tr>\n",
       "    <tr>\n",
       "      <th>3</th>\n",
       "      <td>1995-11-01</td>\n",
       "      <td>2022-12-14</td>\n",
       "      <td>1995-11-01</td>\n",
       "      <td>168</td>\n",
       "      <td>1</td>\n",
       "    </tr>\n",
       "    <tr>\n",
       "      <th>4</th>\n",
       "      <td>1995-11-01</td>\n",
       "      <td>2022-12-14</td>\n",
       "      <td>2005-07-19</td>\n",
       "      <td>221</td>\n",
       "      <td>3</td>\n",
       "    </tr>\n",
       "  </tbody>\n",
       "</table>\n",
       "</div>"
      ],
      "text/plain": [
       "  firstPublicDate lastAnnotationUpdateDate lastSequenceUpdateDate  \\\n",
       "0      1989-10-01               2022-12-14             1990-04-01   \n",
       "1      1992-05-01               2022-12-14             1996-02-01   \n",
       "2      1992-05-01               2022-12-14             1992-05-01   \n",
       "3      1995-11-01               2022-12-14             1995-11-01   \n",
       "4      1995-11-01               2022-12-14             2005-07-19   \n",
       "\n",
       "  entryVersion sequenceVersion  \n",
       "0          198               2  \n",
       "1          177               2  \n",
       "2          182               1  \n",
       "3          168               1  \n",
       "4          221               3  "
      ]
     },
     "execution_count": 64,
     "metadata": {},
     "output_type": "execute_result"
    }
   ],
   "source": [
    "entryAudit.head()"
   ]
  },
  {
   "cell_type": "code",
   "execution_count": null,
   "metadata": {},
   "outputs": [],
   "source": []
  }
 ],
 "metadata": {
  "kernelspec": {
   "display_name": "Python 3",
   "language": "python",
   "name": "python3"
  },
  "language_info": {
   "codemirror_mode": {
    "name": "ipython",
    "version": 3
   },
   "file_extension": ".py",
   "mimetype": "text/x-python",
   "name": "python",
   "nbconvert_exporter": "python",
   "pygments_lexer": "ipython3",
   "version": "3.9.13 (tags/v3.9.13:6de2ca5, May 17 2022, 16:36:42) [MSC v.1929 64 bit (AMD64)]"
  },
  "orig_nbformat": 4,
  "vscode": {
   "interpreter": {
    "hash": "bf8415c99c7fca473d36d54d59d1b61b81d56b3520a94b75b508170ca385efe1"
   }
  }
 },
 "nbformat": 4,
 "nbformat_minor": 2
}
